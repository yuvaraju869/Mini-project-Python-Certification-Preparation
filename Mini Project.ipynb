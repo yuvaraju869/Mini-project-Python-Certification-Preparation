{
 "cells": [
  {
   "cell_type": "code",
   "execution_count": null,
   "id": "c4403476",
   "metadata": {},
   "outputs": [],
   "source": [
    "# 2.) Quiz Maker - Make an application which takes various questions from a file, picked randomly, and puts together a quiz for students. Each quiz can be different and then reads a key to grade the quizzes."
   ]
  },
  {
   "cell_type": "code",
   "execution_count": 3,
   "id": "812dadc5",
   "metadata": {},
   "outputs": [
    {
     "name": "stdout",
     "output_type": "stream",
     "text": [
      "Question 1: 9. What is the tallest mountain in the world?\n",
      "Enter your answer (comma-separated options): Mount Everest\n",
      "Question 2: 5. What is the chemical symbol for gold?\n",
      "Enter your answer (comma-separated options): Au\n",
      "Question 3: 7. What is the largest organ in the human body?\n",
      "Enter your answer (comma-separated options): skin\n",
      "Question 4: 3. What is the largest mammal in the world?\n",
      "Enter your answer (comma-separated options): Blue whale\n",
      "Question 5: 4. Who wrote the play \"Romeo and Juliet\"?\n",
      "Enter your answer (comma-separated options): William Shakespeare. \n",
      "Your score: 0/5\n"
     ]
    }
   ],
   "source": [
    "import random\n",
    "\n",
    "# Function to read questions from a file\n",
    "def read_questions_from_file(file_name):\n",
    "    questions = []\n",
    "    with open(file_name, 'r') as file:\n",
    "        lines = file.readlines()\n",
    "        question = {}\n",
    "        for line in lines:\n",
    "            if line.strip() == \"\":\n",
    "                if question:\n",
    "                    questions.append(question)\n",
    "                question = {}\n",
    "            else:\n",
    "                if \"question\" not in question:\n",
    "                    question[\"question\"] = line.strip()\n",
    "                else:\n",
    "                    question[\"options\"] = line.strip().split(',')\n",
    "        if question:\n",
    "            questions.append(question)\n",
    "    return questions\n",
    "\n",
    "# Function to create a random quiz\n",
    "def create_quiz(questions, num_questions):\n",
    "    if num_questions > len(questions):\n",
    "        print(\"Error: Not enough questions available.\")\n",
    "        return None\n",
    "    quiz = random.sample(questions, num_questions)\n",
    "    return quiz\n",
    "\n",
    "# Function to grade the quiz\n",
    "def grade_quiz(quiz, key):\n",
    "    score = 0\n",
    "    for i, question in enumerate(quiz):\n",
    "        print(f\"Question {i + 1}: {question['question']}\")\n",
    "        user_answer = input(\"Enter your answer (comma-separated options): \").strip().split(',')\n",
    "        if set(user_answer) == set(question['options']):\n",
    "            score += 1\n",
    "    print(f\"Your score: {score}/{len(quiz)}\")\n",
    "\n",
    "# Main function\n",
    "if __name__ == \"__main__\":\n",
    "    # Specify the question file and the number of questions in the quiz\n",
    "    question_file = \"questions.txt\"  # Replace with the actual file name\n",
    "    num_questions_in_quiz = 5  # Adjust the number of questions as needed\n",
    "\n",
    "    # Read questions from the file\n",
    "    questions = read_questions_from_file(question_file)\n",
    "\n",
    "    if not questions:\n",
    "        print(\"No questions found in the file.\")\n",
    "    else:\n",
    "        # Create a random quiz\n",
    "        quiz = create_quiz(questions, num_questions_in_quiz)\n",
    "\n",
    "        if quiz:\n",
    "            # Provide the answer key (comma-separated options)\n",
    "            key = [\"Option1\", \"Option2\", \"Option3\", \"Option4\", \"Option5\"]\n",
    "\n",
    "            # Grade the quiz\n",
    "            grade_quiz(quiz, key)"
   ]
  },
  {
   "cell_type": "code",
   "execution_count": null,
   "id": "126e7fa5",
   "metadata": {},
   "outputs": [],
   "source": []
  },
  {
   "cell_type": "code",
   "execution_count": null,
   "id": "5277cb83",
   "metadata": {},
   "outputs": [],
   "source": []
  }
 ],
 "metadata": {
  "kernelspec": {
   "display_name": "Python 3 (ipykernel)",
   "language": "python",
   "name": "python3"
  },
  "language_info": {
   "codemirror_mode": {
    "name": "ipython",
    "version": 3
   },
   "file_extension": ".py",
   "mimetype": "text/x-python",
   "name": "python",
   "nbconvert_exporter": "python",
   "pygments_lexer": "ipython3",
   "version": "3.11.3"
  }
 },
 "nbformat": 4,
 "nbformat_minor": 5
}
